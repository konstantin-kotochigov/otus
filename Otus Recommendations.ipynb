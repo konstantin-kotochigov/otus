{
 "cells": [
  {
   "cell_type": "code",
   "execution_count": null,
   "metadata": {
    "collapsed": true
   },
   "outputs": [],
   "source": [
    "import pandas\n",
    "import mlxtend\n",
    "from mlxtend.frequent_patterns import association_rules\n",
    "from mlxtend.preprocessing import TransactionEncoder\n",
    "from mlxtend.frequent_patterns import apriori"
   ]
  },
  {
   "cell_type": "markdown",
   "metadata": {},
   "source": [
    "### Generate Association Rules"
   ]
  },
  {
   "cell_type": "code",
   "execution_count": null,
   "metadata": {
    "collapsed": false
   },
   "outputs": [],
   "source": [
    "df = pandas.read_csv(\"/Users/Konstantin/git/otus/sql.csv\", sep=\";\")"
   ]
  },
  {
   "cell_type": "code",
   "execution_count": null,
   "metadata": {
    "collapsed": false
   },
   "outputs": [],
   "source": [
    "df_stats = df.groupby(\"id\")['title'].apply(list)"
   ]
  },
  {
   "cell_type": "code",
   "execution_count": null,
   "metadata": {
    "collapsed": false
   },
   "outputs": [],
   "source": [
    "te = TransactionEncoder()\n",
    "te_ary = te.fit(df_stats).transform(df_stats)\n",
    "\n",
    "import re\n",
    "new_columns = [re.sub(\"-\\d{4}-\\d{2}\",\"\", x) for x in te.columns_]\n",
    "\n",
    "df = pandas.DataFrame(te_ary, columns=new_columns)\n",
    "frequent_itemsets = apriori(df, min_support=0.001, use_colnames=True)\n",
    "# frequent_itemsets = frequent_itemsets[frequent_itemsets.itemsets.apply(len) > 1]\n",
    "frequent_itemsets"
   ]
  },
  {
   "cell_type": "code",
   "execution_count": null,
   "metadata": {
    "collapsed": false
   },
   "outputs": [],
   "source": [
    "ar = association_rules(frequent_itemsets, min_threshold=0.05, metric=\"confidence\")\n",
    "ar = ar.loc[:,['antecedents','consequents','support','confidence','lift']].sort_values(by=\"lift\", ascending=False)"
   ]
  },
  {
   "cell_type": "markdown",
   "metadata": {},
   "source": [
    "### Generate most probable Next Course"
   ]
  },
  {
   "cell_type": "code",
   "execution_count": null,
   "metadata": {
    "collapsed": false
   },
   "outputs": [],
   "source": [
    "df = pandas.read_csv(\"/Users/Konstantin/git/otus/sql.csv\", sep=\";\")\n",
    "purchases_dataset = df.groupby(\"id\").title.apply(list)"
   ]
  },
  {
   "cell_type": "code",
   "execution_count": null,
   "metadata": {
    "collapsed": true
   },
   "outputs": [],
   "source": [
    "def make_itemsets(course_list):\n",
    "    if len(course_list) < 2:\n",
    "        return []\n",
    "    course_list_dates = [re.search(\"\\d{4}-\\d{2}\",x).group(0) for x in course_list if re.search(\"\\d{4}-\\d{2}\",x) != None]\n",
    "    course_list_titles = [re.sub(\"-\\d{4}-\\d{2}\",\"\",x) for x in course_list]\n",
    "    course_list = sorted(zip(course_list_titles, course_list_dates), key= lambda x: x[1])\n",
    "    current_result = []\n",
    "    for x in range(len(course_list)):\n",
    "        for y in range(x+1, len(course_list)):\n",
    "            current_result.append((course_list[x][0], course_list[y][0]))\n",
    "    return current_result"
   ]
  },
  {
   "cell_type": "markdown",
   "metadata": {},
   "source": [
    "Make all pairs of courses (prev, next) for each customer (where next > prev) and put into list"
   ]
  },
  {
   "cell_type": "code",
   "execution_count": null,
   "metadata": {
    "collapsed": false
   },
   "outputs": [],
   "source": [
    "result = []\n",
    "for customer_purchases in purchases_dataset:\n",
    "    course_pairs = make_itemsets(customer_purchases)\n",
    "    if len(course_pairs) > 0:\n",
    "        result = result + course_pairs"
   ]
  },
  {
   "cell_type": "markdown",
   "metadata": {},
   "source": [
    "Convert lists to pandas dataframe"
   ]
  },
  {
   "cell_type": "code",
   "execution_count": 168,
   "metadata": {
    "collapsed": false
   },
   "outputs": [],
   "source": [
    "df_prob = pandas.DataFrame(result, columns=['prev','next'])"
   ]
  },
  {
   "cell_type": "code",
   "execution_count": 181,
   "metadata": {
    "collapsed": false
   },
   "outputs": [],
   "source": [
    "# Use dummy variable to compute stats\n",
    "df_prob['dummy'] = 1\n",
    "\n",
    "# Count Pairs (prev, next)\n",
    "df_agg = df_prob.groupby([\"prev\",\"next\"], as_index=False)['dummy'].sum()\n",
    "\n",
    "# Count pairs with current Prev (further will be normalized by that)\n",
    "df_sum = df_agg.groupby(\"prev\", as_index=False)['dummy'].sum()\n",
    "\n",
    "# Merge current Prev counts\n",
    "df_agg = pandas.merge(left=df_agg, right=df_sum, on=\"prev\")\n",
    "\n",
    "# Normalize\n",
    "df_agg['prob'] = round(df_agg['dummy_x'] / df_agg['dummy_y'], 2)\n",
    "\n",
    "# Sort By Next Probability\n",
    "df_agg.sort_values(by=[\"prev\",\"prob\"], ascending=[True, False], inplace=True)\n",
    "\n",
    "df_agg = df_agg.rename(columns={\"dummy_x\":\"freq\"})\n",
    "\n",
    "# Export to Disk\n",
    "df_agg[['prev','next','prob', 'freq']].to_csv(\"/Users/Konstantin/git/otus/result.csv\", sep=\";\", index=False)"
   ]
  }
 ],
 "metadata": {
  "kernelspec": {
   "display_name": "Python 3",
   "language": "python",
   "name": "python3"
  },
  "language_info": {
   "codemirror_mode": {
    "name": "ipython",
    "version": 3
   },
   "file_extension": ".py",
   "mimetype": "text/x-python",
   "name": "python",
   "nbconvert_exporter": "python",
   "pygments_lexer": "ipython3",
   "version": "3.5.2"
  }
 },
 "nbformat": 4,
 "nbformat_minor": 0
}
